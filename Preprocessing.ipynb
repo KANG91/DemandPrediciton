{
 "cells": [
  {
   "cell_type": "code",
   "execution_count": 1,
   "metadata": {},
   "outputs": [],
   "source": [
    "import pandas as pd"
   ]
  },
  {
   "cell_type": "code",
   "execution_count": 1,
   "metadata": {},
   "outputs": [],
   "source": [
    "import numpy as np\n",
    "import pandas as pd\n",
    "import matplotlib.pyplot as plt\n",
    "import seaborn as sns\n",
    "import pickle\n",
    "from datetime import datetime"
   ]
  },
  {
   "cell_type": "code",
   "execution_count": 2,
   "metadata": {},
   "outputs": [],
   "source": [
    "#입력을 용이하게 하기 위해 원본 파일 네이밍을 임의로 변경한 파일들을 넣었습니다. 길이만 줄어들었을 뿐 원본 파일입니다.\n",
    "custom = pd.read_csv(\"04.Custom.csv\") \n",
    "master = pd.read_csv(\"06.Master.csv\")\n",
    "broduct = pd.read_csv(\"01.Pruduct.csv\", low_memory=False)\n",
    "search1 = pd.read_csv(\"02.Search1.csv\")\n",
    "search2 = pd.read_csv(\"03.Search2.csv\")\n",
    "session = pd.read_csv(\"05.Session.csv\")"
   ]
  },
  {
   "cell_type": "code",
   "execution_count": 5,
   "metadata": {},
   "outputs": [],
   "source": [
    "custom.head().to_csv(\"custom_head.csv\", index=False)"
   ]
  },
  {
   "cell_type": "code",
   "execution_count": 7,
   "metadata": {},
   "outputs": [],
   "source": [
    "master.head().to_csv(\"master_head.csv\", index=False)"
   ]
  },
  {
   "cell_type": "code",
   "execution_count": 9,
   "metadata": {},
   "outputs": [],
   "source": [
    "product.head().to_csv(\"product_head.csv\", index=False)"
   ]
  },
  {
   "cell_type": "code",
   "execution_count": 11,
   "metadata": {},
   "outputs": [],
   "source": [
    "session.head().to_csv(\"session.csv\", index=False)"
   ]
  },
  {
   "cell_type": "code",
   "execution_count": 3,
   "metadata": {},
   "outputs": [
    {
     "name": "stdout",
     "output_type": "stream",
     "text": [
      "인테리어 브랜드들 제거 전 product 개수  : 5024906\n",
      "인테리어 브랜드들 제거 후 product 개수  : 5009812\n"
     ]
    }
   ],
   "source": [
    "# 인테리어 브랜드들 제거 -> 벽지는 타일 형식으로 판매 수량이 기록되어, 판매 수량이 과도하게 많습니다.\n",
    "print(\"인테리어 브랜드들 제거 전 product 개수  : {}\".format(len(product)))\n",
    "product  = product[product['PD_BRA_NM'] != '리드센스']\n",
    "product  = product[product['PD_BRA_NM'] != '[리드센스]']\n",
    "product  = product[product['PD_BRA_NM'] != '창데코']\n",
    "product  = product[product['PD_BRA_NM'] != '코지샵']\n",
    "product  = product[product['PD_BRA_NM'] != '[코지샵]']\n",
    "product  = product[product['PD_BRA_NM'] != '바자르']\n",
    "product  = product[product['PD_BRA_NM'] != '[바자르]']\n",
    "product  = product[product['PD_BRA_NM'] != '한샘']\n",
    "product  = product[product['PD_BRA_NM'] != '[한샘]']\n",
    "product  = product[product['PD_BRA_NM'] != '24+']\n",
    "product  = product[product['PD_BRA_NM'] != '[24+]']\n",
    "product  = product[product['PD_BRA_NM'] != '창문그리기']\n",
    "print(\"인테리어 브랜드들 제거 후 product 개수  : {}\".format(len(product)))"
   ]
  },
  {
   "cell_type": "code",
   "execution_count": 9,
   "metadata": {},
   "outputs": [],
   "source": [
    "# Str 형태로 되어 있는 PD_BUY_CT(수량), PD_BUY_AM(가격)은 \n",
    "# int 형태의 데이터로 조정 ex) ‘1,440’ -> 1440\n",
    "\n",
    "product['PD_BUY_CT'] =  product['PD_BUY_CT'].astype(str)\n",
    "product['PD_BUY_CT'] = product['PD_BUY_CT'].replace(r',','',regex=True)\n",
    "product['PD_BUY_CT'] =  product['PD_BUY_CT'].astype(int)\n",
    "product['PD_BUY_AM'] =  product['PD_BUY_AM'].astype(str)\n",
    "product['PD_BUY_AM'] = product['PD_BUY_AM'].replace(r',','',regex=True)\n",
    "product['PD_BUY_AM'] =  product['PD_BUY_AM'].astype(int)\n",
    "session['TOT_SESS_HR_V'] =  session['TOT_SESS_HR_V'].astype(str)\n",
    "session['TOT_SESS_HR_V'] = session['TOT_SESS_HR_V'].replace(r',','',regex=True)\n",
    "session['TOT_SESS_HR_V'] = session['TOT_SESS_HR_V'].astype(float)"
   ]
  },
  {
   "cell_type": "code",
   "execution_count": 5,
   "metadata": {},
   "outputs": [
    {
     "name": "stdout",
     "output_type": "stream",
     "text": [
      "session 전처리 전 개수 : 2712907\n",
      "session 전처리 후 개수 : 2688092\n"
     ]
    }
   ],
   "source": [
    "#TOT_PAG_VIEW_CT, TOT_SESS_HR_V에서의 nan 값 제거\n",
    "print(\"session 전처리 전 개수 : {}\".format(len(session)))\n",
    "session = session.dropna(axis=0).copy()\n",
    "session = session[session['TOT_SESS_HR_V'].isnull() == False]\n",
    "session[session['TOT_SESS_HR_V'].isnull() == True].count()\n",
    "\n",
    "#TOT_PAG_VIEW_CT가 3회 미만이면 제거\n",
    "session = session[session['TOT_PAG_VIEW_CT'] > 3]\n",
    "print(\"session 전처리 후 개수 : {}\".format(len(session)))\n",
    "\n",
    "#datetime으로 활용하기 위해 20180401 -> 2018-04-01 형태로 변경\n",
    "session[\"SESS_DT\"] = session[\"SESS_DT\"].astype(str)\n",
    "session[\"SESS_DT\"] = session[\"SESS_DT\"].apply(lambda x : x[:4] + \"-\" + x[4:6] + \"-\" + x[-2:])"
   ]
  },
  {
   "cell_type": "code",
   "execution_count": 6,
   "metadata": {},
   "outputs": [],
   "source": [
    "#dataframe들 merge 하는 과정입니다.\n",
    "\n",
    "total = pd.merge(product, custom)\n",
    "\n",
    "total = total.dropna(axis=0).copy()\n",
    "\n",
    "total = pd.merge(total, session, on = ['CLNT_ID','SESS_ID'], how = 'left')\n",
    "\n",
    "total_0 = total.copy()\n",
    "\n",
    "total_0 = total.drop_duplicates('SESS_ID',keep='first')\n",
    "\n",
    "total_0 = total_0.loc[:,['SESS_ID','HITS_SEQ']]\n",
    "\n",
    "total_b = pd.merge(total, total_0, on=['SESS_ID','HITS_SEQ'])\n",
    "\n",
    "total_c = total_b.dropna(axis=0).copy()\n",
    "\n",
    "total_d = total_c.drop(['CLNT_ID','PD_ADD_NM','PD_BRA_NM','DVC_CTG_NM',\n",
    "                        'ZON_NM','CITY_NM', \"PD_BUY_AM\"],axis=1)\n",
    "\n",
    "total_e = pd.merge(total_d, master, on = \"PD_C\")\n",
    "\n",
    "total_e.drop(columns = [\"PD_NM\", \"CLAC1_NM\", \"CLAC2_NM\"], inplace = True)\n",
    "\n",
    "total_e.drop(columns = [\"SESS_ID\", \"PD_C\"], inplace = True)\n",
    "\n",
    "#전처리 및 데이터 통합 완료\n",
    "total_e.to_csv(\"./AfterPreprocessing.csv\", index = False)"
   ]
  },
  {
   "cell_type": "code",
   "execution_count": 7,
   "metadata": {},
   "outputs": [
    {
     "data": {
      "text/html": [
       "<div>\n",
       "<style scoped>\n",
       "    .dataframe tbody tr th:only-of-type {\n",
       "        vertical-align: middle;\n",
       "    }\n",
       "\n",
       "    .dataframe tbody tr th {\n",
       "        vertical-align: top;\n",
       "    }\n",
       "\n",
       "    .dataframe thead th {\n",
       "        text-align: right;\n",
       "    }\n",
       "</style>\n",
       "<table border=\"1\" class=\"dataframe\">\n",
       "  <thead>\n",
       "    <tr style=\"text-align: right;\">\n",
       "      <th></th>\n",
       "      <th>HITS_SEQ</th>\n",
       "      <th>PD_BUY_CT</th>\n",
       "      <th>CLNT_GENDER</th>\n",
       "      <th>CLNT_AGE</th>\n",
       "      <th>SESS_SEQ</th>\n",
       "      <th>SESS_DT</th>\n",
       "      <th>TOT_PAG_VIEW_CT</th>\n",
       "      <th>TOT_SESS_HR_V</th>\n",
       "      <th>CLAC3_NM</th>\n",
       "    </tr>\n",
       "  </thead>\n",
       "  <tbody>\n",
       "    <tr>\n",
       "      <th>0</th>\n",
       "      <td>13</td>\n",
       "      <td>2</td>\n",
       "      <td>F</td>\n",
       "      <td>40</td>\n",
       "      <td>172.0</td>\n",
       "      <td>2018-04-13</td>\n",
       "      <td>18.0</td>\n",
       "      <td>113.0</td>\n",
       "      <td>남성스포츠티셔츠</td>\n",
       "    </tr>\n",
       "    <tr>\n",
       "      <th>1</th>\n",
       "      <td>21</td>\n",
       "      <td>1</td>\n",
       "      <td>F</td>\n",
       "      <td>30</td>\n",
       "      <td>58.0</td>\n",
       "      <td>2018-06-13</td>\n",
       "      <td>20.0</td>\n",
       "      <td>144.0</td>\n",
       "      <td>남성스포츠티셔츠</td>\n",
       "    </tr>\n",
       "    <tr>\n",
       "      <th>2</th>\n",
       "      <td>94</td>\n",
       "      <td>1</td>\n",
       "      <td>F</td>\n",
       "      <td>30</td>\n",
       "      <td>55.0</td>\n",
       "      <td>2018-06-11</td>\n",
       "      <td>93.0</td>\n",
       "      <td>1371.0</td>\n",
       "      <td>남성스포츠티셔츠</td>\n",
       "    </tr>\n",
       "    <tr>\n",
       "      <th>3</th>\n",
       "      <td>129</td>\n",
       "      <td>1</td>\n",
       "      <td>F</td>\n",
       "      <td>30</td>\n",
       "      <td>710.0</td>\n",
       "      <td>2018-07-17</td>\n",
       "      <td>179.0</td>\n",
       "      <td>1199.0</td>\n",
       "      <td>남성스포츠티셔츠</td>\n",
       "    </tr>\n",
       "    <tr>\n",
       "      <th>4</th>\n",
       "      <td>55</td>\n",
       "      <td>1</td>\n",
       "      <td>F</td>\n",
       "      <td>30</td>\n",
       "      <td>772.0</td>\n",
       "      <td>2018-06-14</td>\n",
       "      <td>123.0</td>\n",
       "      <td>2804.0</td>\n",
       "      <td>남성스포츠티셔츠</td>\n",
       "    </tr>\n",
       "  </tbody>\n",
       "</table>\n",
       "</div>"
      ],
      "text/plain": [
       "   HITS_SEQ  PD_BUY_CT CLNT_GENDER  CLNT_AGE  SESS_SEQ     SESS_DT  \\\n",
       "0        13          2           F        40     172.0  2018-04-13   \n",
       "1        21          1           F        30      58.0  2018-06-13   \n",
       "2        94          1           F        30      55.0  2018-06-11   \n",
       "3       129          1           F        30     710.0  2018-07-17   \n",
       "4        55          1           F        30     772.0  2018-06-14   \n",
       "\n",
       "   TOT_PAG_VIEW_CT  TOT_SESS_HR_V  CLAC3_NM  \n",
       "0             18.0          113.0  남성스포츠티셔츠  \n",
       "1             20.0          144.0  남성스포츠티셔츠  \n",
       "2             93.0         1371.0  남성스포츠티셔츠  \n",
       "3            179.0         1199.0  남성스포츠티셔츠  \n",
       "4            123.0         2804.0  남성스포츠티셔츠  "
      ]
     },
     "execution_count": 7,
     "metadata": {},
     "output_type": "execute_result"
    }
   ],
   "source": [
    "total_e.head()"
   ]
  }
 ],
 "metadata": {
  "kernelspec": {
   "display_name": "Python 3",
   "language": "python",
   "name": "python3"
  },
  "language_info": {
   "codemirror_mode": {
    "name": "ipython",
    "version": 3
   },
   "file_extension": ".py",
   "mimetype": "text/x-python",
   "name": "python",
   "nbconvert_exporter": "python",
   "pygments_lexer": "ipython3",
   "version": "3.6.5"
  },
  "varInspector": {
   "cols": {
    "lenName": 16,
    "lenType": 16,
    "lenVar": 40
   },
   "kernels_config": {
    "python": {
     "delete_cmd_postfix": "",
     "delete_cmd_prefix": "del ",
     "library": "var_list.py",
     "varRefreshCmd": "print(var_dic_list())"
    },
    "r": {
     "delete_cmd_postfix": ") ",
     "delete_cmd_prefix": "rm(",
     "library": "var_list.r",
     "varRefreshCmd": "cat(var_dic_list()) "
    }
   },
   "position": {
    "height": "362px",
    "left": "1151.59px",
    "right": "20px",
    "top": "119px",
    "width": "360px"
   },
   "types_to_exclude": [
    "module",
    "function",
    "builtin_function_or_method",
    "instance",
    "_Feature"
   ],
   "window_display": false
  }
 },
 "nbformat": 4,
 "nbformat_minor": 2
}
